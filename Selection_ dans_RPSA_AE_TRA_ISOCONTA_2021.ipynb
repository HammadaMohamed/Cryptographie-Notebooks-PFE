{
 "cells": [
  {
   "cell_type": "code",
   "execution_count": 1,
   "id": "9e366c5c-4658-4251-bdd4-4c4dcb4505fd",
   "metadata": {},
   "outputs": [],
   "source": [
    "import pandas as pd\n",
    "import os"
   ]
  },
  {
   "cell_type": "code",
   "execution_count": 2,
   "id": "2a6c657f-84c4-471a-8f78-b3b8c9795f94",
   "metadata": {},
   "outputs": [],
   "source": [
    "def traiter_donnees_par_annee(annee, repertoire_entree, repertoire_sortie, finess,\n",
    "                               fichiers_traite, fichiers_non_trouves):\n",
    "    # Construction des chemins de fichiers\n",
    "    fichier_rpsa = f\"{finess}.{annee}.12.rpsa\"\n",
    "    fichier_isoconta = f\"{finess}.{annee}.12.isoconta\"\n",
    "    fichier_tra = f\"TRA.{finess}.{annee}.crypte.txt\"\n",
    "\n",
    "    chemin_rpsa = os.path.join(repertoire_entree, fichier_rpsa)\n",
    "    chemin_isoconta = os.path.join(repertoire_entree, fichier_isoconta)\n",
    "    chemin_tra = os.path.join(repertoire_sortie, fichier_tra)\n",
    "\n",
    "    fichiers = {\n",
    "        \"RPSA\": chemin_rpsa,\n",
    "        \"ISOCONTA\": chemin_isoconta,\n",
    "        \"TRA\": chemin_tra\n",
    "    }\n",
    "\n",
    "    # Vérification de l'existence des fichiers\n",
    "    for nom, chemin in fichiers.items():\n",
    "        if not os.path.exists(chemin):\n",
    "            fichiers_non_trouves.append(os.path.basename(chemin))\n",
    "            return  # On saute cette année si un fichier est manquant\n",
    "\n",
    "    # Lecture des fichiers\n",
    "    RPSA = pd.read_csv(chemin_rpsa, names=[\"colRPSA\"], dtype=str)\n",
    "    TRA = pd.read_csv(chemin_tra, names=[\"colTRA\"], dtype=str)\n",
    "    ISOCONTA = pd.read_csv(chemin_isoconta, names=[\"colISOCONTA\"], dtype=str)\n",
    "\n",
    "    # Extraction des champs\n",
    "    RPSA[\"num_sequ\"] = RPSA[\"colRPSA\"].str[98:104]\n",
    "    \n",
    "\n",
    "    TRA[\"IPP\"] = TRA[\"colTRA\"].str[0:24]\n",
    "    TRA[\"num_sequ\"] = TRA[\"colTRA\"].str[43:49]\n",
    "\n",
    "    ISOCONTA[\"num_sequ\"] = ISOCONTA[\"colISOCONTA\"].str[29:35]\n",
    "\n",
    "    # Lister les num_sequ du RPSA\n",
    "    numseq_unique = RPSA[\"num_sequ\"].unique().tolist()\n",
    "\n",
    "    # Extraction des IPP correspondants\n",
    "    IPPSE = TRA[TRA[\"num_sequ\"].isin(numseq_unique)][\"IPP\"].unique().tolist()\n",
    "    TRA_filtered = TRA[TRA[\"IPP\"].isin(IPPSE)]\n",
    "    num_sequ_uniques = TRA_filtered[\"num_sequ\"].unique()\n",
    "\n",
    "    # Mapping IPP -> num_sequ\n",
    "    tra_unique = TRA.drop_duplicates(subset=\"num_sequ\", keep=\"first\").set_index(\"num_sequ\")[\"IPP\"]\n",
    "\n",
    "    # RPSA filtré\n",
    "    RPSA_filtered = RPSA[RPSA[\"num_sequ\"].isin(num_sequ_uniques)].copy()\n",
    "    RPSA_filtered[\"IPP\"] = RPSA_filtered[\"num_sequ\"].map(tra_unique)\n",
    "    RPSA_filtered = RPSA_filtered.drop(columns=[\"num_sequ\"])\n",
    "    nom_fichier_rpsa = os.path.join(repertoire_sortie, f\"RPSA.Filtre.{finess}.{annee}.txt\")\n",
    "    RPSA_filtered.to_csv(nom_fichier_rpsa, index=False, header=None)\n",
    "\n",
    "    # TRA filtré\n",
    "    TRA_filtered = TRA_filtered.drop(columns=[\"num_sequ\", \"IPP\"])\n",
    "    nom_fichier_tra = os.path.join(repertoire_sortie, f\"TRA.Filtre.{finess}.{annee}.txt\")\n",
    "    TRA_filtered.to_csv(nom_fichier_tra, index=False, header=None)\n",
    "\n",
    "    # ISOCONTA filtré\n",
    "    ISOCONTA_filtered = ISOCONTA[ISOCONTA[\"num_sequ\"].isin(num_sequ_uniques)].copy()\n",
    "    ISOCONTA_filtered[\"IPP\"] = ISOCONTA_filtered[\"num_sequ\"].map(tra_unique)\n",
    "    ISOCONTA_filtered = ISOCONTA_filtered.drop(columns=[\"num_sequ\"])\n",
    "    nom_fichier_isoconta = os.path.join(repertoire_sortie, f\"ISOCONTA.Filtre.{finess}.{annee}.txt\")\n",
    "    ISOCONTA_filtered.to_csv(nom_fichier_isoconta, index=False, header=None)\n",
    "\n",
    "    fichiers_traite.extend([nom_fichier_rpsa, nom_fichier_tra, nom_fichier_isoconta])"
   ]
  },
  {
   "cell_type": "code",
   "execution_count": 3,
   "id": "33ff24ef-d749-44ce-a8da-68ea033b70b3",
   "metadata": {},
   "outputs": [],
   "source": [
    "def main():\n",
    "    print(\"=== Traitement des fichiers RPSA, ISOCONTA et TRA (2021-2024) ===\")\n",
    "    repertoire_entree = input(\"📥 Répertoire d'entrée : \").strip()\n",
    "    repertoire_sortie = input(\"📤 Répertoire de sortie : \").strip()\n",
    "    finess = input(\"🏥 Numéro de FINESS : \").strip()\n",
    "\n",
    "    annees = [2021]\n",
    "    fichiers_traite = []\n",
    "    fichiers_non_trouves = []\n",
    "\n",
    "    for annee in annees:\n",
    "        traiter_donnees_par_annee(annee, repertoire_entree, repertoire_sortie, finess,\n",
    "                                  fichiers_traite, fichiers_non_trouves)\n",
    "\n",
    "    # Résumé final\n",
    "    print(\"\\n=== RÉSUMÉ DU TRAITEMENT ===\")\n",
    "    if fichiers_traite:\n",
    "        print(\"✅ Fichiers traités avec succès :\")\n",
    "        for f in fichiers_traite:\n",
    "            print(\"  -\", os.path.basename(f))\n",
    "    if fichiers_non_trouves:\n",
    "        print(\"\\n⚠️ Fichiers manquants :\")\n",
    "        for f in fichiers_non_trouves:\n",
    "            print(\"  -\", f)"
   ]
  },
  {
   "cell_type": "code",
   "execution_count": 4,
   "id": "2f99705a-70a8-4bfa-b91c-7b5b936a4752",
   "metadata": {},
   "outputs": [
    {
     "name": "stdout",
     "output_type": "stream",
     "text": [
      "=== Traitement des fichiers RPSA, ISOCONTA et TRA (2021-2024) ===\n"
     ]
    },
    {
     "name": "stdin",
     "output_type": "stream",
     "text": [
      "📥 Répertoire d'entrée :  C:\\Users\\Youba\\Documents\\\n",
      "📤 Répertoire de sortie :  C:\\Users\\Youba\\Documents\\\n",
      "🏥 Numéro de FINESS :  200001\n"
     ]
    },
    {
     "name": "stdout",
     "output_type": "stream",
     "text": [
      "\n",
      "=== ✅ RÉSUMÉ DU TRAITEMENT ===\n",
      "\n",
      "⚠️ Fichiers manquants :\n",
      "  - 200001.2024.12.rpsa\n",
      "  - 200001.2023.12.rpsa\n",
      "  - 200001.2022.12.rpsa\n",
      "  - 200001.2021.12.rpsa\n"
     ]
    }
   ],
   "source": [
    "if __name__ == \"__main__\":\n",
    "    main()"
   ]
  },
  {
   "cell_type": "markdown",
   "id": "9ef07138-d0e8-4172-ad79-77fa7533a871",
   "metadata": {},
   "source": [
    "***Préparé par : Lekehal Hammada***\n",
    "\n",
    "***Équipe : I4S***\n",
    "\n",
    "***30/04/2025***"
   ]
  }
 ],
 "metadata": {
  "kernelspec": {
   "display_name": "Python 3 (ipykernel)",
   "language": "python",
   "name": "python3"
  },
  "language_info": {
   "codemirror_mode": {
    "name": "ipython",
    "version": 3
   },
   "file_extension": ".py",
   "mimetype": "text/x-python",
   "name": "python",
   "nbconvert_exporter": "python",
   "pygments_lexer": "ipython3",
   "version": "3.12.7"
  }
 },
 "nbformat": 4,
 "nbformat_minor": 5
}
