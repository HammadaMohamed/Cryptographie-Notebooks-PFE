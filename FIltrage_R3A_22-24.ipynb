{
 "cells": [
  {
   "cell_type": "code",
   "execution_count": 2,
   "id": "75625af8-88d4-48cd-8a61-903551b8f1c4",
   "metadata": {},
   "outputs": [
    {
     "name": "stdin",
     "output_type": "stream",
     "text": [
      "📁 Entrez le répertoire d'entrée :  C:\\Users\\Youba\\Documents\n",
      "📁 Entrez le répertoire de sortie :  C:\\Users\\Youba\\Documents\n",
      "🔢 Entrez le numéro FINESS :  20001\n"
     ]
    },
    {
     "name": "stdout",
     "output_type": "stream",
     "text": [
      "\n",
      "📦 Fichiers traités avec succès :\n",
      "\n",
      "🚫 Fichiers non trouvés ou erreurs :\n",
      "❌ 2024 - C:\\Users\\Youba\\Documents\\20001.2024.12.r3a non trouvé\n",
      "❌ 2023 - C:\\Users\\Youba\\Documents\\RPSA.Filtre.2023.txt non trouvé\n",
      "❌ 2022 - C:\\Users\\Youba\\Documents\\RPSA.Filtre.2022.txt non trouvé\n",
      "❌ 2021 - C:\\Users\\Youba\\Documents\\RPSA.Filtre.2021.txt non trouvé\n"
     ]
    }
   ],
   "source": [
    "import pandas as pd\n",
    "import os\n",
    "\n",
    "# ⌨️ Entrées utilisateur\n",
    "repertoire_entree = input(\"📁 Entrez le répertoire d'entrée : \").strip()\n",
    "repertoire_sortie = input(\"📁 Entrez le répertoire de sortie : \").strip()\n",
    "finess = input(\"🔢 Entrez le numéro FINESS : \").strip()\n",
    "liste_annees = [2024, 2023, 2022]\n",
    "\n",
    "# 🧾 Pour suivi\n",
    "fichiers_traites = []\n",
    "fichiers_non_trouves = []\n",
    "\n",
    "for annee in liste_annees:\n",
    "    try:\n",
    "        # 📥 Chemins d'entrée\n",
    "        fichier_rpsa = os.path.join(repertoire_sortie, f\"RPSA.Filtre.{finess}.{annee}.txt\")\n",
    "        fichier_tra_raa = os.path.join(repertoire_sortie, f\"TRA.RAA.{finess}.{annee}.crypte.txt\")\n",
    "        fichier_r3a = os.path.join(repertoire_entree, f\"{finess}.{annee}.12.r3a\")\n",
    "\n",
    "        # 📤 Chemin de sortie\n",
    "        sortie_r3a_filtre = os.path.join(repertoire_sortie, f\"R3A.Filtre.{finess}.{annee}.txt\")\n",
    "\n",
    "        # 🔄 Chargement\n",
    "        RPSA = pd.read_csv(fichier_rpsa, names=[\"colRPSA\"])\n",
    "        TRA_RAA = pd.read_csv(fichier_tra_raa, names=[\"colTRA\"])\n",
    "        R3A = pd.read_csv(fichier_r3a, names=[\"colR3A\"])\n",
    "\n",
    "        # 🔍 Extraction & filtrage\n",
    "        RPSA[\"IPP\"] = RPSA[\"colRPSA\"].str[-24:]\n",
    "        TRA_RAA[\"IPP\"] = TRA_RAA[\"colTRA\"].str[:24]\n",
    "        TRA_RAA[\"num_ordre\"] = TRA_RAA[\"colTRA\"].str[43:51]\n",
    "        R3A[\"num_ordre\"] = R3A[\"colR3A\"].str[106 :114]\n",
    "\n",
    "        liste_uniques_ipp = RPSA[\"IPP\"].unique().tolist()\n",
    "        TRA_RAA_filtré = TRA_RAA[TRA_RAA[\"IPP\"].isin(liste_uniques_ipp)]\n",
    "        liste_num_ordre_uniques = TRA_RAA_filtré[\"num_ordre\"].unique().tolist()\n",
    "\n",
    "        R3A_filtré = R3A[R3A[\"num_ordre\"].isin(liste_num_ordre_uniques)]\n",
    "\n",
    "        # 🧩 Ajouter IPP depuis TRA_RAA_filtré via correspondance num_ordre\n",
    "        mapping_num_ordre_ipp = TRA_RAA_filtré.drop_duplicates(\"num_ordre\")[[\"num_ordre\", \"IPP\"]]\n",
    "        R3A_filtré = R3A_filtré.merge(mapping_num_ordre_ipp, on=\"num_ordre\", how=\"left\")\n",
    "\n",
    "        # 💾 Sauvegarde du seul fichier filtré nécessaire\n",
    "        R3A_filtré[[\"colR3A\", \"IPP\"]].to_csv(sortie_r3a_filtre, index=False, header=None)\n",
    "\n",
    "        fichiers_traites.append(f\"✅ {annee}\")\n",
    "    except FileNotFoundError as e:\n",
    "        fichiers_non_trouves.append(f\"❌ {annee} - {e.filename} non trouvé\")\n",
    "    except Exception as e:\n",
    "        fichiers_non_trouves.append(f\"❌ {annee} - Erreur : {str(e)}\")\n",
    "\n",
    "# 📋 Résumé\n",
    "print(\"\\n📦 Fichiers traités avec succès :\")\n",
    "for f in fichiers_traites:\n",
    "    print(f)\n",
    "\n",
    "print(\"\\n🚫 Fichiers non trouvés ou erreurs :\")\n",
    "for f in fichiers_non_trouves:\n",
    "    print(f)"
   ]
  },
  {
   "cell_type": "markdown",
   "id": "33a795c6-baf8-43d1-be94-f5a9553ab7c1",
   "metadata": {},
   "source": [
    "***Préparé par : Lekehal Hammada***\n",
    "\n",
    "***Équipe : I4S***\n",
    "\n",
    "***30/04/2025***"
   ]
  }
 ],
 "metadata": {
  "kernelspec": {
   "display_name": "Python 3 (ipykernel)",
   "language": "python",
   "name": "python3"
  },
  "language_info": {
   "codemirror_mode": {
    "name": "ipython",
    "version": 3
   },
   "file_extension": ".py",
   "mimetype": "text/x-python",
   "name": "python",
   "nbconvert_exporter": "python",
   "pygments_lexer": "ipython3",
   "version": "3.12.4"
  }
 },
 "nbformat": 4,
 "nbformat_minor": 5
}
