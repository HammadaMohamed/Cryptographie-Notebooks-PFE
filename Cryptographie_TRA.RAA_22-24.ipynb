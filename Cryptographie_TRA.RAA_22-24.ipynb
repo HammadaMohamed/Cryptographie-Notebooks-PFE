{
 "cells": [
  {
   "cell_type": "markdown",
   "id": "e6d77b0e-b8fa-4634-9c1b-ec06c1a084b7",
   "metadata": {},
   "source": [
    "# Chiffrement Déterministe des Identifiants Patients"
   ]
  },
  {
   "cell_type": "markdown",
   "id": "4c7e736a-bac4-4347-8f2c-53c4f2427376",
   "metadata": {},
   "source": [
    "Ce script Python permet de chiffrer de manière déterministe des portions spécifiques d'identifiants patients contenus dans un fichier texte, en utilisant l'algorithme AES-256 en mode ECB avec padding PKCS7. Le chiffrement est déterministe car une même entrée produira toujours le même résultat chiffré avec la même clé."
   ]
  },
  {
   "cell_type": "markdown",
   "id": "5afe94ac-f061-4af8-982c-b1486b0176ff",
   "metadata": {},
   "source": [
    "## Sécurité de la Clé Secrète"
   ]
  },
  {
   "cell_type": "markdown",
   "id": "247bb3a9-d013-4d8f-b20b-d1e36254428a",
   "metadata": {},
   "source": [
    "- **Longueur minimale** : La phrase secrète doit contenir au moins 12 caractères\n",
    "- **Complexité** : Utilisez un mélange de lettres (majuscules/minuscules), chiffres et caractères spéciaux\n",
    "- **Confidentialité** : Cette clé doit être gardée secrète et ne pas être partagée\n",
    "- **Perte de clé** : Sans la clé exacte, il est impossible de déchiffrer les données"
   ]
  },
  {
   "cell_type": "markdown",
   "id": "9690ec84-2697-4469-9bf4-8c711eed2716",
   "metadata": {},
   "source": [
    "## Caractéristiques du Chiffrement"
   ]
  },
  {
   "cell_type": "markdown",
   "id": "91d8f121-d5f4-45b6-a762-e8ffe0c3c326",
   "metadata": {},
   "source": [
    "- **Format de sortie** : Base64 URL-safe (sécurisé pour les URLs/fichiers)\n",
    "- **Longueur fixe** : Toute entrée chiffrée produit **exactement 24 caractères** en sortie\n",
    "- **Marqueur de fin** : Les résultats se terminent toujours par `==` (double égal)\n",
    "    \n",
    "    *Astuce de vérification* : Si vous avez un doute sur la longueur, comptez 24 caractères depuis la fin en incluant les `==`."
   ]
  },
  {
   "cell_type": "markdown",
   "id": "113a7598-66d9-46bd-b65b-1b567ff736c8",
   "metadata": {},
   "source": [
    "## 1. Importer les bibliothèques nécessaires"
   ]
  },
  {
   "cell_type": "code",
   "execution_count": 1,
   "id": "b79e7fc6-2ce8-45c8-9808-63d78455d51f",
   "metadata": {},
   "outputs": [],
   "source": [
    "import pandas as pd\n",
    "from cryptography.hazmat.primitives.ciphers import Cipher, algorithms, modes\n",
    "from cryptography.hazmat.primitives import padding\n",
    "from cryptography.hazmat.backends import default_backend\n",
    "import base64\n",
    "import hashlib\n",
    "import os"
   ]
  },
  {
   "cell_type": "markdown",
   "id": "49ce74f1-938b-4f5f-b4af-da32e389311a",
   "metadata": {},
   "source": [
    "## 2. Fonction 1 : Génère une clé AES 256 bits à partir d'une phrase secrète"
   ]
  },
  {
   "cell_type": "code",
   "execution_count": 2,
   "id": "7e688381-fba1-40d2-a2af-b43cf277e548",
   "metadata": {
    "scrolled": true
   },
   "outputs": [],
   "source": [
    "def generer_clef(personnalisation: str):\n",
    "    cle_hash = hashlib.sha256(personnalisation.encode()).digest()\n",
    "    return cle_hash[:32]  # Utiliser les 32 premiers octets pour AES-256"
   ]
  },
  {
   "cell_type": "markdown",
   "id": "a1d32d71-06c8-4fbc-959e-b3405f1abdab",
   "metadata": {},
   "source": [
    "## 3. Fonction 2 : Chiffre l'identifiant avec padding PKCS7"
   ]
  },
  {
   "cell_type": "code",
   "execution_count": 3,
   "id": "3e39601a-9873-4baa-b80b-e72c0a74b549",
   "metadata": {},
   "outputs": [],
   "source": [
    "def chiffrer_identifiant(cle, id_str):\n",
    "    # Compter le nombre d'espaces à la fin\n",
    "    nb_espaces_fin = len(id_str) - len(id_str.rstrip())\n",
    "\n",
    "    # Supprimer tous les espaces\n",
    "    id_str_sans_espaces = id_str.replace(\" \", \"\")\n",
    "    \n",
    "    # Convertir l'identifiant en bytes\n",
    "    id_bytes = id_str_sans_espaces.encode()\n",
    "\n",
    "    # Appliquer le padding PKCS7 pour s'assurer que la longueur est multiple de 16\n",
    "    padder = padding.PKCS7(128).padder()\n",
    "    id_bytes_padded = padder.update(id_bytes) + padder.finalize()\n",
    "\n",
    "    # Chiffrement AES-ECB\n",
    "    cipher = Cipher(algorithms.AES(cle), modes.ECB(), backend=default_backend())\n",
    "    encryptor = cipher.encryptor()\n",
    "    encrypted = encryptor.update(id_bytes_padded) + encryptor.finalize()\n",
    "\n",
    "    # Encodage base64\n",
    "    encrypted_b64 = base64.urlsafe_b64encode(encrypted).decode()\n",
    "\n",
    "    # Ajouter les espaces à la fin\n",
    "    return encrypted_b64 + (\" \" * nb_espaces_fin)"
   ]
  },
  {
   "cell_type": "markdown",
   "id": "ee4ce1b8-a6b8-40c1-baa6-ab9245a8e484",
   "metadata": {},
   "source": [
    "## 4. Fonction 3 : La fonction principale"
   ]
  },
  {
   "cell_type": "code",
   "execution_count": 4,
   "id": "6340f136-3f9b-4cfa-b128-006fec64d2eb",
   "metadata": {},
   "outputs": [],
   "source": [
    "# Fonction principale\n",
    "def main():\n",
    "    print(\"=== Chiffrement Déterministe des Identifiants Patients ===\")\n",
    "\n",
    "    # Clé secrète\n",
    "    phrase_secrete = input(\"Entrez votre clé secrète complexe (au moins 12 caractères, mélange de lettres/chiffres) : \")\n",
    "    if len(phrase_secrete) < 12:\n",
    "        print(\"❌ Clé trop courte. Utilisez au moins 12 caractères.\")\n",
    "        return\n",
    "    cle = generer_clef(phrase_secrete)\n",
    "\n",
    "    # Répertoires\n",
    "    repertoire_entree = input(\"Entrez le répertoire contenant les fichiers à chiffrer : \").strip()\n",
    "    repertoire_sortie = input(\"Entrez le répertoire où sauvegarder les fichiers chiffrés : \").strip()\n",
    "    numero_finess = input(\"Entrez le numéro de FINESS : \").strip()\n",
    "    annees = [2024, 2023, 2022]\n",
    "\n",
    "    # Plages à chiffrer\n",
    "    plages = [(0, 20), (40, 44)]\n",
    "\n",
    "    fichiers_cryptes = []\n",
    "    fichiers_non_trouves = []\n",
    "\n",
    "    def chiffrer_ligne(ligne):\n",
    "        ligne_mod = ligne\n",
    "        offset = 0\n",
    "        for debut, fin in plages:\n",
    "            vrai_debut = debut + offset\n",
    "            vrai_fin = fin + offset\n",
    "            if vrai_fin > len(ligne_mod):\n",
    "                continue\n",
    "            a_chiffrer = ligne_mod[vrai_debut:vrai_fin]\n",
    "            chiffre = chiffrer_identifiant(cle, a_chiffrer)\n",
    "            ligne_mod = ligne_mod[:vrai_debut] + chiffre + ligne_mod[vrai_fin:]\n",
    "            offset += len(chiffre) - (fin - debut)\n",
    "        return ligne_mod\n",
    "\n",
    "    for annee in annees:\n",
    "        nom_fichier_entree = f\"{numero_finess}.{annee}.12.tra.raa\"\n",
    "        chemin_entree = os.path.join(repertoire_entree, nom_fichier_entree)\n",
    "\n",
    "        if not os.path.exists(chemin_entree):\n",
    "            fichiers_non_trouves.append(nom_fichier_entree)\n",
    "            continue\n",
    "\n",
    "        try:\n",
    "            data = pd.read_csv(chemin_entree, names=[\"colonnes\"])\n",
    "        except Exception as e:\n",
    "            print(f\"❌ Erreur de lecture {nom_fichier_entree} : {e}\")\n",
    "            fichiers_non_trouves.append(nom_fichier_entree)\n",
    "            continue\n",
    "\n",
    "        data[\"colonnes\"] = data[\"colonnes\"].apply(chiffrer_ligne)\n",
    "\n",
    "        nom_fichier_sortie = f\"TRA.RAA.{numero_finess}.{annee}.crypte.txt\"\n",
    "        chemin_sortie = os.path.join(repertoire_sortie, nom_fichier_sortie)\n",
    "\n",
    "        try:\n",
    "            data.to_csv(chemin_sortie, index=False, header=False)\n",
    "            fichiers_cryptes.append(nom_fichier_sortie)\n",
    "        except Exception as e:\n",
    "            print(f\"❌ Erreur lors de la sauvegarde de {nom_fichier_sortie} : {e}\")\n",
    "            fichiers_non_trouves.append(nom_fichier_entree)\n",
    "\n",
    "    # Résumé final\n",
    "    print(\"\\n=== Résumé du traitement ===\")\n",
    "    if fichiers_cryptes:\n",
    "        print(\"✅ Fichiers chiffrés avec succès :\")\n",
    "        for f in fichiers_cryptes:\n",
    "            print(\"  -\", f)\n",
    "    if fichiers_non_trouves:\n",
    "        print(\"❌ Fichiers non trouvés ou en erreur :\")\n",
    "        for f in fichiers_non_trouves:\n",
    "            print(\"  -\", f)"
   ]
  },
  {
   "cell_type": "markdown",
   "id": "ad75bf20-72a2-4d0e-a467-ffa9347f1da3",
   "metadata": {},
   "source": [
    "## Exécute ce bloc pour commencer"
   ]
  },
  {
   "cell_type": "code",
   "execution_count": 5,
   "id": "37c3d8d0-65ec-4358-a7d0-801a46822655",
   "metadata": {},
   "outputs": [
    {
     "name": "stdout",
     "output_type": "stream",
     "text": [
      "=== Chiffrement Déterministe des Identifiants Patients ===\n"
     ]
    },
    {
     "name": "stdin",
     "output_type": "stream",
     "text": [
      "Entrez votre clé secrète complexe (au moins 12 caractères, mélange de lettres/chiffres) :  xavierboucher\n",
      "Entrez le répertoire contenant les fichiers à chiffrer :  C:\\Users\\Youba\\Documents\\\n",
      "Entrez le répertoire où sauvegarder les fichiers chiffrés :  C:\\Users\\Youba\\Documents\\\n",
      "Entrez le numéro de FINESS :  20001\n"
     ]
    },
    {
     "name": "stdout",
     "output_type": "stream",
     "text": [
      "\n",
      "=== Résumé du traitement ===\n",
      "❌ Fichiers non trouvés ou en erreur :\n",
      "  - 20001.2024.12.tra.raa\n",
      "  - 20001.2023.12.tra.raa\n",
      "  - 20001.2022.12.tra.raa\n"
     ]
    }
   ],
   "source": [
    "if __name__ == \"__main__\":\n",
    "    main()"
   ]
  },
  {
   "cell_type": "markdown",
   "id": "18ccbe6a-c845-4f09-a293-38c5217b03b3",
   "metadata": {},
   "source": [
    "### Voir le répertoire de sauvegarde des fichiers cryptés 😊"
   ]
  },
  {
   "cell_type": "markdown",
   "id": "8bef9913-64a3-4a6c-b739-48f8993443c8",
   "metadata": {},
   "source": [
    "***Préparé par : Lekehal Hammada***\n",
    "\n",
    "***Équipe : I4S***\n",
    "\n",
    "***20/04/2025***"
   ]
  }
 ],
 "metadata": {
  "kernelspec": {
   "display_name": "Python 3 (ipykernel)",
   "language": "python",
   "name": "python3"
  },
  "language_info": {
   "codemirror_mode": {
    "name": "ipython",
    "version": 3
   },
   "file_extension": ".py",
   "mimetype": "text/x-python",
   "name": "python",
   "nbconvert_exporter": "python",
   "pygments_lexer": "ipython3",
   "version": "3.12.4"
  }
 },
 "nbformat": 4,
 "nbformat_minor": 5
}
